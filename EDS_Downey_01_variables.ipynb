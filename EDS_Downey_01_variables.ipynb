{
  "nbformat": 4,
  "nbformat_minor": 0,
  "metadata": {
    "celltoolbar": "Tags",
    "kernelspec": {
      "display_name": "Python 3",
      "language": "python",
      "name": "python3"
    },
    "language_info": {
      "codemirror_mode": {
        "name": "ipython",
        "version": 3
      },
      "file_extension": ".py",
      "mimetype": "text/x-python",
      "name": "python",
      "nbconvert_exporter": "python",
      "pygments_lexer": "ipython3",
      "version": "3.7.7"
    },
    "colab": {
      "name": "EDS_Downey -  01_variables.ipynb",
      "provenance": [],
      "collapsed_sections": [
        "Mi91LSkBr4Ab",
        "eRZ8MR8br4Ap",
        "awWE7hrfr4Ap",
        "ukMF4M34r4As",
        "hoKR5nExr4Aw"
      ],
      "include_colab_link": true
    }
  },
  "cells": [
    {
      "cell_type": "markdown",
      "metadata": {
        "id": "view-in-github",
        "colab_type": "text"
      },
      "source": [
        "<a href=\"https://colab.research.google.com/github/majello63/Siti-Interesse-per-Aree/blob/master/EDS_Downey_01_variables.ipynb\" target=\"_parent\"><img src=\"https://colab.research.google.com/assets/colab-badge.svg\" alt=\"Open In Colab\"/></a>"
      ]
    },
    {
      "cell_type": "markdown",
      "metadata": {
        "id": "bfW63ygJr4AB"
      },
      "source": [
        "# Variables and values"
      ]
    },
    {
      "cell_type": "markdown",
      "metadata": {
        "tags": [],
        "id": "yu2R_yPkr4AC"
      },
      "source": [
        "*Elements of Data Science*\n",
        "\n",
        "Copyright 2021 [Allen B. Downey](https://allendowney.com)\n",
        "\n",
        "License: [Creative Commons Attribution-NonCommercial-ShareAlike 4.0 International](https://creativecommons.org/licenses/by-nc-sa/4.0/)"
      ]
    },
    {
      "cell_type": "markdown",
      "metadata": {
        "tags": [],
        "id": "TgumZ9h2r4AE"
      },
      "source": [
        "[Click here to run this notebook on Colab](https://colab.research.google.com/github/AllenDowney/ElementsOfDataScience/blob/master/01_variables.ipynb) or\n",
        "[click here to download it](https://github.com/AllenDowney/ElementsOfDataScience/raw/master/01_variables.ipynb)."
      ]
    },
    {
      "cell_type": "markdown",
      "metadata": {
        "id": "YXC6zkk2r4AF"
      },
      "source": [
        "Data Science is the use of data to answers questions and guide decision making.\n",
        "For example, a topic of current debate is whether we should raise the minimum wage in the United States.\n",
        "Some economists think that raising the minimum wage would raise families out of poverty; others think it would cause more unemployment.\n",
        "But economic theory can only take us so far.\n",
        "At some point, we need data.\n",
        "\n",
        "A successful data science project requires three elements:\n",
        "\n",
        "* A question: For example, what is the relationship between the minimum wage and unemployment?\n",
        "\n",
        "* Data: To answer this question, the best data would be results from a well designed experiment.  But if we can't get ideal data, we have to work with what we can get. \n",
        "\n",
        "* Methods: With the right data, simple methods are often enough to find answers and present them clearly.  But sometimes we need more specialized tools.\n",
        "\n",
        "In an ideal world, we would pose a question, find data, and choose the appropriate methods, in that order.\n",
        "More often, the data science is iterative.  We might start with one question, get stuck, and pivot to a different question.\n",
        "Or we might explore a new dataset and discover the questions it can answer.\n",
        "Or we might start with a tool and look for problems it can solve.\n",
        "Most data science projects require flexibility and persistence."
      ]
    },
    {
      "cell_type": "markdown",
      "metadata": {
        "id": "Oq8kk9Zrr4AH"
      },
      "source": [
        "The goal of this book is to give you the tools you need to execute a data science project from beginning to end, including these steps:\n",
        "\n",
        "* Choosing questions, data, and methods that go together.\n",
        "\n",
        "* Finding data or collecting it yourself.\n",
        "\n",
        "* Cleaning and validating data.\n",
        "\n",
        "* Exploring datasets, visualizing distributions and relationships between variables.\n",
        "\n",
        "* Modeling data and generating predictions.\n",
        "\n",
        "* Designing data visualizations that tell a compelling story.\n",
        "\n",
        "* Communicating results effectively."
      ]
    },
    {
      "cell_type": "markdown",
      "metadata": {
        "id": "-7s_vnfor4AK"
      },
      "source": [
        "We'll start with basic programming concepts and work our way toward data science tools.\n",
        "\n",
        "I won't assume that you already know about programming, statistics, or data science. When I use a term, I try to define it immediately, and when I use a programming feature, I try to explain it clearly.\n",
        "\n",
        "This book is in the form of Jupyter notebooks. Jupyter is a software development tool you can run in a web browser, so you don't have to install any software. A Jupyter notebook is a document that contains text, Python code, and results. So you can read it like a book, but you can also modify the code, run it, develop new programs, and test them.\n",
        "\n",
        "The notebooks contain exercises where you can practice what you learn. I encourage you to do the exercises as you go along."
      ]
    },
    {
      "cell_type": "markdown",
      "metadata": {
        "id": "FbaCmRySr4AL"
      },
      "source": [
        "The topics in this chapter are:\n",
        "\n",
        "* Using Jupyter to write and run Python code.\n",
        "\n",
        "* Basic programming features in Python: variables and values.\n",
        "\n",
        "* Translating formulas from math notation to Python.\n",
        "\n",
        "Along the way, we'll review a couple of math topics I assume you have seen before, logarithms and algebra."
      ]
    },
    {
      "cell_type": "markdown",
      "metadata": {
        "tags": [],
        "id": "8BI4Anagr4AM"
      },
      "source": [
        "## Jupyter\n",
        "\n",
        "Jupyter is a software development environment, which means you can use it to write and run programs in Python and other programming languages.\n",
        "\n",
        "A Jupyter notebook is made up of cells, where each cell contains either text or code you can run."
      ]
    },
    {
      "cell_type": "markdown",
      "metadata": {
        "tags": [],
        "id": "HD0np41Jr4AO"
      },
      "source": [
        "If you are running this notebook on Colab, you should see buttons in the top left that say \"+ Code\" and \"+ Text\".  The first one adds code cell and the second adds a text cell.\n",
        "\n",
        "If you want to try them out, select this cell by clicking on it, then press the \"+ Text\" button.  A new cell should appear below this one.\n",
        "\n",
        "Add some text to the cell.  You can use the buttons to format it, or you can mark up the text using [Markdown](https://www.markdownguide.org/basic-syntax/).  When you are done, hold down Shift and press Enter, which will format the text you just typed and then move to the next cell.\n",
        "\n",
        "If you select a Code cell, you should see a button on the left with a triangle inside a circle, which is the icon for \"Play\".  If you press this button, Jupyter runs the code in the cell and displays the results.\n",
        "\n",
        "When you run code in a notebook for the first time, you might get a message warning you about the things a notebook can do.  If you are running a notebook from a source you trust, which I hope includes me, you can press \"Run Anyway\".\n",
        "\n",
        "Instead of clicking the \"Play\" button, you can also run the code in a cell by holding down Shift and pressing Enter."
      ]
    },
    {
      "cell_type": "markdown",
      "metadata": {
        "id": "DEvXK541r4AQ"
      },
      "source": [
        "## Numbers\n",
        "\n",
        "Python provides tools for working with many kinds of data, including numbers, words, dates, times, and locations (latitude and longitude).\n",
        "\n",
        "Let's start with numbers.  Python can work with several types of numbers, but the two most common are:\n",
        "\n",
        "* `int`, which represents integer values like `3`, and\n",
        "\n",
        "* `float`, which represents numbers that have a fraction part, like `3.14159`.\n",
        "\n",
        "Most often, we use `int` to represent counts and `float` to represent measurements.\n",
        "Here's an example of an `int` and a `float`:"
      ]
    },
    {
      "cell_type": "code",
      "metadata": {
        "id": "NzAgzkFmr4AR",
        "colab": {
          "base_uri": "https://localhost:8080/"
        },
        "outputId": "928633d3-d682-449d-e732-ff607cdf0d3a"
      },
      "source": [
        "3"
      ],
      "execution_count": 1,
      "outputs": [
        {
          "output_type": "execute_result",
          "data": {
            "text/plain": [
              "3"
            ]
          },
          "metadata": {
            "tags": []
          },
          "execution_count": 1
        }
      ]
    },
    {
      "cell_type": "code",
      "metadata": {
        "id": "eeavkLnar4AS",
        "colab": {
          "base_uri": "https://localhost:8080/"
        },
        "outputId": "c6b14cb2-a0b7-480e-e768-aed57d0a9638"
      },
      "source": [
        "3.14159"
      ],
      "execution_count": 2,
      "outputs": [
        {
          "output_type": "execute_result",
          "data": {
            "text/plain": [
              "3.14159"
            ]
          },
          "metadata": {
            "tags": []
          },
          "execution_count": 2
        }
      ]
    },
    {
      "cell_type": "markdown",
      "metadata": {
        "id": "8VyoICJir4AS"
      },
      "source": [
        " `float` is short for \"floating-point\", which is the name for the way these numbers are stored."
      ]
    },
    {
      "cell_type": "markdown",
      "metadata": {
        "tags": [],
        "id": "DEHLbOaHr4AT"
      },
      "source": [
        "**Exercise:** Create a code cell below this one and type in the following number:  `1.2345e3`\n",
        "\n",
        "Then run the cell.  The output should be `1234.5`\n",
        "\n",
        "The `e` in `1.2345e3` stands for \"exponent\".  This way of writing numbers is a version of scientific notation that means $1.2345 \\times 10^{3}$.  If you are not familiar with scientific notation, you can read about it at <https://en.wikipedia.org/wiki/Scientific_notation>. "
      ]
    },
    {
      "cell_type": "code",
      "metadata": {
        "colab": {
          "base_uri": "https://localhost:8080/"
        },
        "id": "YQRZp4yjtUaA",
        "outputId": "ab014026-793c-470f-f009-d5427f34bf29"
      },
      "source": [
        "1.2345e3"
      ],
      "execution_count": 3,
      "outputs": [
        {
          "output_type": "execute_result",
          "data": {
            "text/plain": [
              "1234.5"
            ]
          },
          "metadata": {
            "tags": []
          },
          "execution_count": 3
        }
      ]
    },
    {
      "cell_type": "markdown",
      "metadata": {
        "id": "f3DhSuvGr4AU"
      },
      "source": [
        "## Arithmetic\n",
        "\n",
        "Python provides operators that perform arithmetic.  The operators that perform addition and subtraction are `+` and `-`:"
      ]
    },
    {
      "cell_type": "code",
      "metadata": {
        "id": "VtPxoGzEr4AU",
        "colab": {
          "base_uri": "https://localhost:8080/"
        },
        "outputId": "2bdb55c0-d1fd-4619-8216-1fbe27b3867a"
      },
      "source": [
        "3 + 2 - 1"
      ],
      "execution_count": 4,
      "outputs": [
        {
          "output_type": "execute_result",
          "data": {
            "text/plain": [
              "4"
            ]
          },
          "metadata": {
            "tags": []
          },
          "execution_count": 4
        }
      ]
    },
    {
      "cell_type": "markdown",
      "metadata": {
        "id": "XmAP6r_5r4AU"
      },
      "source": [
        "The operators that perform multiplication and division are `*` and `/`:"
      ]
    },
    {
      "cell_type": "code",
      "metadata": {
        "id": "9727PCHZr4AV",
        "colab": {
          "base_uri": "https://localhost:8080/"
        },
        "outputId": "cba7d395-f220-4b81-e23d-54c9b3984797"
      },
      "source": [
        "2 * 3"
      ],
      "execution_count": 5,
      "outputs": [
        {
          "output_type": "execute_result",
          "data": {
            "text/plain": [
              "6"
            ]
          },
          "metadata": {
            "tags": []
          },
          "execution_count": 5
        }
      ]
    },
    {
      "cell_type": "code",
      "metadata": {
        "id": "nQ9cVZaVr4AV",
        "colab": {
          "base_uri": "https://localhost:8080/"
        },
        "outputId": "5c201048-99d8-4b6b-cb88-25a1d2f98a06"
      },
      "source": [
        "2 / 3"
      ],
      "execution_count": 6,
      "outputs": [
        {
          "output_type": "execute_result",
          "data": {
            "text/plain": [
              "0.6666666666666666"
            ]
          },
          "metadata": {
            "tags": []
          },
          "execution_count": 6
        }
      ]
    },
    {
      "cell_type": "markdown",
      "metadata": {
        "id": "rCU9XZnlr4AV"
      },
      "source": [
        "And the operator for exponentiation is `**`:"
      ]
    },
    {
      "cell_type": "code",
      "metadata": {
        "id": "XfZCr5Oir4AW",
        "colab": {
          "base_uri": "https://localhost:8080/"
        },
        "outputId": "c3c349a7-509d-45e5-c3e7-6d83ea8f5441"
      },
      "source": [
        "2**3"
      ],
      "execution_count": 7,
      "outputs": [
        {
          "output_type": "execute_result",
          "data": {
            "text/plain": [
              "8"
            ]
          },
          "metadata": {
            "tags": []
          },
          "execution_count": 7
        }
      ]
    },
    {
      "cell_type": "markdown",
      "metadata": {
        "id": "VcwMeHvmr4AX"
      },
      "source": [
        "Unlike math notation, Python does not allow \"implicit multiplication\".  For example, in math notation, if you write $3 (2 + 1)$, that's understood to be the same as $3 \\times (2+ 1)$.\n",
        "Python does not allow that notation.\n",
        "If you want to multiply, you have to use the `*` operator."
      ]
    },
    {
      "cell_type": "markdown",
      "metadata": {
        "tags": [],
        "id": "on4Cit52r4AX"
      },
      "source": [
        "Try running this code to see what error you get.\n",
        "\n",
        "```\n",
        "3 (2 + 1)\n",
        "```\n",
        "\n",
        "In this example, the error message is not very helpful, which is why I am warning you now. "
      ]
    },
    {
      "cell_type": "code",
      "metadata": {
        "tags": [],
        "id": "DrX0B7Yjr4AX",
        "colab": {
          "base_uri": "https://localhost:8080/",
          "height": 172
        },
        "outputId": "93531dbf-1699-4011-9fca-187c59ee4cf1"
      },
      "source": [
        "3(2+1)"
      ],
      "execution_count": 8,
      "outputs": [
        {
          "output_type": "error",
          "ename": "TypeError",
          "evalue": "ignored",
          "traceback": [
            "\u001b[0;31m---------------------------------------------------------------------------\u001b[0m",
            "\u001b[0;31mTypeError\u001b[0m                                 Traceback (most recent call last)",
            "\u001b[0;32m<ipython-input-8-4c849a851274>\u001b[0m in \u001b[0;36m<module>\u001b[0;34m()\u001b[0m\n\u001b[0;32m----> 1\u001b[0;31m \u001b[0;36m3\u001b[0m\u001b[0;34m(\u001b[0m\u001b[0;36m2\u001b[0m\u001b[0;34m+\u001b[0m\u001b[0;36m1\u001b[0m\u001b[0;34m)\u001b[0m\u001b[0;34m\u001b[0m\u001b[0;34m\u001b[0m\u001b[0m\n\u001b[0m",
            "\u001b[0;31mTypeError\u001b[0m: 'int' object is not callable"
          ]
        }
      ]
    },
    {
      "cell_type": "markdown",
      "metadata": {
        "id": "tZdjeC1vr4AX"
      },
      "source": [
        "The arithmetic operators follow the rules of precedence you might have learned as \"PEMDAS\":\n",
        "\n",
        "* Parentheses before\n",
        "* Exponentiation before\n",
        "* Multiplication and division before\n",
        "* Addition and subtraction\n",
        "\n",
        "So in this expression:"
      ]
    },
    {
      "cell_type": "code",
      "metadata": {
        "id": "lJbIcFOnr4AZ",
        "colab": {
          "base_uri": "https://localhost:8080/"
        },
        "outputId": "f30f6303-3e1f-4543-94f1-a52e1fc3cc6b"
      },
      "source": [
        "1 + 2 * 3"
      ],
      "execution_count": 9,
      "outputs": [
        {
          "output_type": "execute_result",
          "data": {
            "text/plain": [
              "7"
            ]
          },
          "metadata": {
            "tags": []
          },
          "execution_count": 9
        }
      ]
    },
    {
      "cell_type": "markdown",
      "metadata": {
        "id": "pBHwBI1ur4AZ"
      },
      "source": [
        "The multiplication happens first.  If that's not what you want, you can use parentheses to make the order of operations explicit:"
      ]
    },
    {
      "cell_type": "code",
      "metadata": {
        "id": "ciTBR5cMr4Aa",
        "colab": {
          "base_uri": "https://localhost:8080/"
        },
        "outputId": "d984709f-29a0-40f3-825a-374e6da06a81"
      },
      "source": [
        "(1 + 2) * 3"
      ],
      "execution_count": 10,
      "outputs": [
        {
          "output_type": "execute_result",
          "data": {
            "text/plain": [
              "9"
            ]
          },
          "metadata": {
            "tags": []
          },
          "execution_count": 10
        }
      ]
    },
    {
      "cell_type": "markdown",
      "metadata": {
        "id": "sBn1q-VGr4Aa"
      },
      "source": [
        "**Exercise:** Write a Python expression that raises `1+2` to the power `3*4`.  The answer should be `531441`."
      ]
    },
    {
      "cell_type": "code",
      "metadata": {
        "colab": {
          "base_uri": "https://localhost:8080/"
        },
        "id": "_8yOaB6DuK8B",
        "outputId": "2c57c650-0449-47eb-8b73-7b51f9dcf09f"
      },
      "source": [
        "(1+2)**(3*4)"
      ],
      "execution_count": 12,
      "outputs": [
        {
          "output_type": "execute_result",
          "data": {
            "text/plain": [
              "531441"
            ]
          },
          "metadata": {
            "tags": []
          },
          "execution_count": 12
        }
      ]
    },
    {
      "cell_type": "markdown",
      "metadata": {
        "tags": [],
        "id": "m1Toi2kZr4Aa"
      },
      "source": [
        "Note: in the cell below, it should say\n",
        "\n",
        "```\n",
        "# Solution goes here\n",
        "```\n",
        "\n",
        "Lines like this that begin with `#` are \"comments\"; they provide information, but they have no effect when the program runs.\n",
        "\n",
        "When you do this exercise, you should delete the comment and replace it with your solution."
      ]
    },
    {
      "cell_type": "code",
      "metadata": {
        "id": "W0zp6kYrr4Ab",
        "colab": {
          "base_uri": "https://localhost:8080/"
        },
        "outputId": "eff8eb4b-cccd-4d0f-c6f5-5f1a37dee9b2"
      },
      "source": [
        "(1+2)**(3*4)"
      ],
      "execution_count": 14,
      "outputs": [
        {
          "output_type": "execute_result",
          "data": {
            "text/plain": [
              "531441"
            ]
          },
          "metadata": {
            "tags": []
          },
          "execution_count": 14
        }
      ]
    },
    {
      "cell_type": "markdown",
      "metadata": {
        "id": "Mi91LSkBr4Ab"
      },
      "source": [
        "## Math functions\n",
        "\n",
        "Python provides functions that compute all the usual mathematical functions, like `sin` and `cos`, `exp` and `log`.\n",
        "However, they are not part of Python itself; they are in a **library**, which is a collection of functions that supplement the Python language.\n",
        "\n",
        "Actually, there are several libraries that provide math functions; the one we'll use is called NumPy, which stands for \"Numerical Python\", and is pronounced \"num' pie\".\n",
        "Before you can use a library, you have to \"import\" it.  Here's how we import NumPy:  "
      ]
    },
    {
      "cell_type": "code",
      "metadata": {
        "id": "jHTdti8ar4Ab"
      },
      "source": [
        "import numpy as np"
      ],
      "execution_count": 15,
      "outputs": []
    },
    {
      "cell_type": "markdown",
      "metadata": {
        "id": "CxINxoazr4Ac"
      },
      "source": [
        "It is conventional to import `numpy` as `np`, which means we can refer to it by the short name `np` rather than the longer name `numpy`.\n",
        "Names like this are case-sensitive, which means that `numpy` is not the same as `NumPy`.  So even though the name of the library is NumPy, when we import it we have to call it `numpy`.  "
      ]
    },
    {
      "cell_type": "markdown",
      "metadata": {
        "tags": [],
        "id": "121gg4OYr4Ac"
      },
      "source": [
        "If you run this code in the following cell, you should get an error:\n",
        "\n",
        "```\n",
        "import NumPy as np\n",
        "```"
      ]
    },
    {
      "cell_type": "code",
      "metadata": {
        "tags": [],
        "id": "L9J_7tozr4Ad",
        "colab": {
          "base_uri": "https://localhost:8080/",
          "height": 320
        },
        "outputId": "1ac8456c-8b9f-4456-a33f-40fe03779b20"
      },
      "source": [
        "import NumPy as np"
      ],
      "execution_count": 16,
      "outputs": [
        {
          "output_type": "error",
          "ename": "ModuleNotFoundError",
          "evalue": "ignored",
          "traceback": [
            "\u001b[0;31m---------------------------------------------------------------------------\u001b[0m",
            "\u001b[0;31mModuleNotFoundError\u001b[0m                       Traceback (most recent call last)",
            "\u001b[0;32m<ipython-input-16-ec0b775bee05>\u001b[0m in \u001b[0;36m<module>\u001b[0;34m()\u001b[0m\n\u001b[0;32m----> 1\u001b[0;31m \u001b[0;32mimport\u001b[0m \u001b[0mNumPy\u001b[0m \u001b[0;32mas\u001b[0m \u001b[0mnp\u001b[0m\u001b[0;34m\u001b[0m\u001b[0;34m\u001b[0m\u001b[0m\n\u001b[0m",
            "\u001b[0;31mModuleNotFoundError\u001b[0m: No module named 'NumPy'",
            "",
            "\u001b[0;31m---------------------------------------------------------------------------\u001b[0;32m\nNOTE: If your import is failing due to a missing package, you can\nmanually install dependencies using either !pip or !apt.\n\nTo view examples of installing some common dependencies, click the\n\"Open Examples\" button below.\n\u001b[0;31m---------------------------------------------------------------------------\u001b[0m\n"
          ]
        }
      ]
    },
    {
      "cell_type": "markdown",
      "metadata": {
        "id": "mAs6ihMir4Ad"
      },
      "source": [
        "But assuming we import `np` correctly, we can use it to read the value `pi`, which is an approximation of the mathematical constant $\\pi$."
      ]
    },
    {
      "cell_type": "code",
      "metadata": {
        "id": "G-Obpnvfr4Ad",
        "colab": {
          "base_uri": "https://localhost:8080/"
        },
        "outputId": "08838aea-024b-4085-a79e-dccab36452b2"
      },
      "source": [
        "np.pi"
      ],
      "execution_count": 17,
      "outputs": [
        {
          "output_type": "execute_result",
          "data": {
            "text/plain": [
              "3.141592653589793"
            ]
          },
          "metadata": {
            "tags": []
          },
          "execution_count": 17
        }
      ]
    },
    {
      "cell_type": "markdown",
      "metadata": {
        "id": "CeAZpDqCr4Ae"
      },
      "source": [
        "The result is a `float` with 16 digits.  As you might know, we can't represent $\\pi$ with a finite number of digits, so this result is only approximate. \n",
        "\n",
        "`numpy` provides `log`, which computes the natural logarithm"
      ]
    },
    {
      "cell_type": "code",
      "metadata": {
        "id": "5EnZQQjrr4Ae",
        "colab": {
          "base_uri": "https://localhost:8080/"
        },
        "outputId": "48a7041d-8260-46a2-9fa0-08f18ef65062"
      },
      "source": [
        "np.log(100)"
      ],
      "execution_count": 18,
      "outputs": [
        {
          "output_type": "execute_result",
          "data": {
            "text/plain": [
              "4.605170185988092"
            ]
          },
          "metadata": {
            "tags": []
          },
          "execution_count": 18
        }
      ]
    },
    {
      "cell_type": "markdown",
      "metadata": {
        "id": "z3_WilyOr4Ae"
      },
      "source": [
        "And `exp`, which raises the constant `e` to a power."
      ]
    },
    {
      "cell_type": "code",
      "metadata": {
        "id": "qQUJsJjqr4Af",
        "colab": {
          "base_uri": "https://localhost:8080/"
        },
        "outputId": "f380dae3-5c10-4243-d073-1ddc80882bae"
      },
      "source": [
        "np.exp(1)"
      ],
      "execution_count": 19,
      "outputs": [
        {
          "output_type": "execute_result",
          "data": {
            "text/plain": [
              "2.718281828459045"
            ]
          },
          "metadata": {
            "tags": []
          },
          "execution_count": 19
        }
      ]
    },
    {
      "cell_type": "markdown",
      "metadata": {
        "id": "7kvWC05Tr4Af"
      },
      "source": [
        "**Exercise:** Use these functions to confirm the mathematical identity $\\log(e^x) = x$, which should be true for any value of $x$.\n",
        "\n",
        "With floating-point values, this identity should work for values of $x$ between -700 and 700.  What happens when you try it with larger and smaller values?"
      ]
    },
    {
      "cell_type": "code",
      "metadata": {
        "id": "kaSrLFOUr4Af",
        "colab": {
          "base_uri": "https://localhost:8080/"
        },
        "outputId": "b347e58f-5a4e-4d16-93ac-53fa8f8f7e02"
      },
      "source": [
        "np.log(10)\n",
        "np.exp(2.302585092994046)"
      ],
      "execution_count": 27,
      "outputs": [
        {
          "output_type": "execute_result",
          "data": {
            "text/plain": [
              "10.000000000000002"
            ]
          },
          "metadata": {
            "tags": []
          },
          "execution_count": 27
        }
      ]
    },
    {
      "cell_type": "markdown",
      "metadata": {
        "id": "fnVXIhDdr4Ag"
      },
      "source": [
        "As this example shows, floating-point numbers are finite approximations, which means they don't always behave like math.\n",
        "\n",
        "As another example, let's see what happens when you add up `0.1` three times:"
      ]
    },
    {
      "cell_type": "code",
      "metadata": {
        "id": "dAhrFjcLr4Ag",
        "colab": {
          "base_uri": "https://localhost:8080/"
        },
        "outputId": "4e9277ea-363e-48b6-c169-f7e7bd8e250c"
      },
      "source": [
        "0.1 + 0.1 + 0.1"
      ],
      "execution_count": 28,
      "outputs": [
        {
          "output_type": "execute_result",
          "data": {
            "text/plain": [
              "0.30000000000000004"
            ]
          },
          "metadata": {
            "tags": []
          },
          "execution_count": 28
        }
      ]
    },
    {
      "cell_type": "markdown",
      "metadata": {
        "id": "VcHs82TQr4Ag"
      },
      "source": [
        "The result is close to `0.3`, but not exact.  \n",
        "We'll see other examples of floating-point approximation later, and learn some ways to deal with it."
      ]
    },
    {
      "cell_type": "markdown",
      "metadata": {
        "id": "cPA5gQGNr4Ah"
      },
      "source": [
        "## Variables\n",
        "\n",
        "A variable is a name that refers to a value.\n",
        "The following statement assigns the value `5` to a variable named `x`:"
      ]
    },
    {
      "cell_type": "code",
      "metadata": {
        "id": "WgfftA87r4Ah"
      },
      "source": [
        "x = 5"
      ],
      "execution_count": 30,
      "outputs": []
    },
    {
      "cell_type": "markdown",
      "metadata": {
        "id": "j-Ec1Tzar4Ai"
      },
      "source": [
        "The variable we just created has the name `x` and the value `5`."
      ]
    },
    {
      "cell_type": "markdown",
      "metadata": {
        "tags": [],
        "id": "wtYaJhFur4Ai"
      },
      "source": [
        "If a variable name appears at the end of a cell, Jupyter displays its value."
      ]
    },
    {
      "cell_type": "code",
      "metadata": {
        "tags": [],
        "id": "IaMK346Cr4Ai",
        "colab": {
          "base_uri": "https://localhost:8080/"
        },
        "outputId": "59bf80f2-2da2-47b5-e95d-1b35cfce6366"
      },
      "source": [
        "x"
      ],
      "execution_count": 31,
      "outputs": [
        {
          "output_type": "execute_result",
          "data": {
            "text/plain": [
              "5"
            ]
          },
          "metadata": {
            "tags": []
          },
          "execution_count": 31
        }
      ]
    },
    {
      "cell_type": "markdown",
      "metadata": {
        "id": "iNQSKwZcr4Aj"
      },
      "source": [
        "If we use `x` as part of an arithmetic operation, it represents the value `5`:"
      ]
    },
    {
      "cell_type": "code",
      "metadata": {
        "id": "VZ7mweCjr4Al",
        "colab": {
          "base_uri": "https://localhost:8080/"
        },
        "outputId": "18e54841-d94b-48b7-b1f2-f2d3aca40720"
      },
      "source": [
        "x + 1"
      ],
      "execution_count": 32,
      "outputs": [
        {
          "output_type": "execute_result",
          "data": {
            "text/plain": [
              "6"
            ]
          },
          "metadata": {
            "tags": []
          },
          "execution_count": 32
        }
      ]
    },
    {
      "cell_type": "code",
      "metadata": {
        "id": "HLBwxEGyr4Al",
        "colab": {
          "base_uri": "https://localhost:8080/"
        },
        "outputId": "3968baec-aa4c-40db-b366-520d765c9073"
      },
      "source": [
        "x**2"
      ],
      "execution_count": 33,
      "outputs": [
        {
          "output_type": "execute_result",
          "data": {
            "text/plain": [
              "25"
            ]
          },
          "metadata": {
            "tags": []
          },
          "execution_count": 33
        }
      ]
    },
    {
      "cell_type": "markdown",
      "metadata": {
        "id": "fH2EJDn7r4Al"
      },
      "source": [
        "We can also use `x` with `numpy` functions:"
      ]
    },
    {
      "cell_type": "code",
      "metadata": {
        "id": "UZ6rACYBr4Al",
        "colab": {
          "base_uri": "https://localhost:8080/"
        },
        "outputId": "45db5d88-59ae-44af-e29d-a351019bda64"
      },
      "source": [
        "np.exp(x)"
      ],
      "execution_count": 34,
      "outputs": [
        {
          "output_type": "execute_result",
          "data": {
            "text/plain": [
              "148.4131591025766"
            ]
          },
          "metadata": {
            "tags": []
          },
          "execution_count": 34
        }
      ]
    },
    {
      "cell_type": "markdown",
      "metadata": {
        "id": "KaAPYhsNr4Am"
      },
      "source": [
        "Notice that the result from `exp` is a `float`, even though the value of `x` is an `int`."
      ]
    },
    {
      "cell_type": "markdown",
      "metadata": {
        "id": "70L9BgROr4An"
      },
      "source": [
        "**Exercise:** If you have not programmed before, one of the things you have to get used to is that programming languages are picky about details.  Natural languages, like English, and semi-formal languages, like math notation, are more forgiving.\n",
        "\n",
        "As an example, in math notation, parentheses and square brackets mean the same thing, you can write\n",
        "\n",
        "$\\sin (\\omega t)$\n",
        "\n",
        "or\n",
        "\n",
        "$\\sin [\\omega t]$\n",
        "\n",
        "Either one is fine.  And you can leave out the parentheses altogether, as long as the meaning is clear:\n",
        "\n",
        "$\\sin \\omega t$"
      ]
    },
    {
      "cell_type": "markdown",
      "metadata": {
        "id": "979sU39xr4An"
      },
      "source": [
        "In Python, every character counts.  For example, the following are all different:\n",
        "\n",
        "```\n",
        "np.exp(x)\n",
        "np.Exp(x)\n",
        "np.exp[x]\n",
        "np.exp x\n",
        "```\n",
        "\n",
        "While you are learning, I encourage you to make mistakes on purpose to see what goes wrong.  Read the error messages carefully.  Sometimes they are helpful and tell you exactly what's wrong.  Other times they can be misleading.  But if you have seen the message before, you might remember some likely causes."
      ]
    },
    {
      "cell_type": "markdown",
      "metadata": {
        "tags": [],
        "id": "220aGOy4r4An"
      },
      "source": [
        "In the next cell, try out the different versions of `np.exp(x)` above, and see what error messages you get."
      ]
    },
    {
      "cell_type": "code",
      "metadata": {
        "tags": [],
        "id": "5J9m_GTir4Ao",
        "colab": {
          "base_uri": "https://localhost:8080/"
        },
        "outputId": "126ff493-176a-4b8f-98bc-325c8219f529"
      },
      "source": [
        "np.exp(x)"
      ],
      "execution_count": 35,
      "outputs": [
        {
          "output_type": "execute_result",
          "data": {
            "text/plain": [
              "148.4131591025766"
            ]
          },
          "metadata": {
            "tags": []
          },
          "execution_count": 35
        }
      ]
    },
    {
      "cell_type": "markdown",
      "metadata": {
        "id": "schttC8jr4Ao"
      },
      "source": [
        "**Exercise:** Search the NumPy documentation to find the function that computes square roots, and use it to compute a floating-point approximation of the golden ratio:\n",
        "\n",
        "$\\phi = \\frac{1 + \\sqrt{5}}{2}$ \n",
        "\n",
        "Hint: The result should be close to `1.618`."
      ]
    },
    {
      "cell_type": "code",
      "metadata": {
        "id": "FuT-2zPXr4Ao",
        "colab": {
          "base_uri": "https://localhost:8080/"
        },
        "outputId": "b67b86cc-383a-4a82-ab13-916f6134431d"
      },
      "source": [
        "(1+np.sqrt(5))/2"
      ],
      "execution_count": 38,
      "outputs": [
        {
          "output_type": "execute_result",
          "data": {
            "text/plain": [
              "1.618033988749895"
            ]
          },
          "metadata": {
            "tags": []
          },
          "execution_count": 38
        }
      ]
    },
    {
      "cell_type": "markdown",
      "metadata": {
        "tags": [],
        "id": "eRZ8MR8br4Ap"
      },
      "source": [
        "## Save your work\n",
        "\n",
        "If you are running on Colab and you want to save your work, now is a good time to press the \"Copy to Drive\" button (near the upper left), which saves a copy of this notebook in your Google Drive.\n",
        "\n",
        "If you want to change the name of the file, you can click on the name in the upper left.\n",
        "\n",
        "If you don't use Google Drive, look under the File menu to see other options.\n",
        "\n",
        "Once you make a copy, any additional changes you make will be saved automatically, so now you can continue without worrying about losing your work."
      ]
    },
    {
      "cell_type": "markdown",
      "metadata": {
        "id": "awWE7hrfr4Ap"
      },
      "source": [
        "## Calculation with variables\n",
        "\n",
        "Now let's use variables to solve a problem involving mathematical calculation.\n",
        "Suppose we have the following formula for computing compound interest from Wikipedia (see <https://en.wikipedia.org/wiki/Compound_interest#Periodic_compounding>):\n",
        "\n",
        "\"The total accumulated value, including the principal sum $P$ plus compounded interest $I$, is given by the formula:\n",
        "\n",
        "$V=P\\left(1+{\\frac {r}{n}}\\right)^{nt}$\n",
        "\n",
        "where:\n",
        "\n",
        "* $P$ is the original principal sum\n",
        "* $V$ is the total accumulated value\n",
        "* $r$ is the nominal annual interest rate\n",
        "* $n$ is the compounding frequency\n",
        "* $t$ is the overall length of time the interest is applied (expressed using the same time units as $r$, usually years).\n",
        "\n",
        "\"Suppose a principal amount of \\$1,500 is deposited in a bank paying an annual interest rate of 4.3\\%, compounded quarterly.\n",
        "Then the balance after 6 years is found by using the formula above, with"
      ]
    },
    {
      "cell_type": "code",
      "metadata": {
        "id": "aLbTNVYAr4Ap"
      },
      "source": [
        "P = 1500\n",
        "r = 0.043\n",
        "n = 4\n",
        "t = 6"
      ],
      "execution_count": null,
      "outputs": []
    },
    {
      "cell_type": "markdown",
      "metadata": {
        "id": "9lf1NbN8r4Aq"
      },
      "source": [
        "We can compute the total accumulated value by translating the mathematical formula into Python syntax:"
      ]
    },
    {
      "cell_type": "code",
      "metadata": {
        "id": "kydMyQxJr4Aq"
      },
      "source": [
        "P * (1 + r/n)**(n*t)"
      ],
      "execution_count": null,
      "outputs": []
    },
    {
      "cell_type": "markdown",
      "metadata": {
        "id": "OVlR-n-Cr4Aq"
      },
      "source": [
        "**Exercise:** Continuing the example from Wikipedia:\n",
        "\n",
        "\"Suppose the same amount of \\$1,500 is compounded biennially\", so `n = 1/2`.  \n",
        "\n",
        "What would the total value be after 6 years?  Hint: we expect the answer to be a bit less than the previous answer."
      ]
    },
    {
      "cell_type": "code",
      "metadata": {
        "id": "Q1NsRC3nr4Aq"
      },
      "source": [
        "# Solution goes here"
      ],
      "execution_count": null,
      "outputs": []
    },
    {
      "cell_type": "markdown",
      "metadata": {
        "id": "Mo5-st1br4Ar"
      },
      "source": [
        "**Exercise:** If interest is compounded continuously, the value after time $t$ is given by the formula:\n",
        "\n",
        "$V=P~e^{rt}$\n",
        "\n",
        "Translate this equation into Python and use it compute the value of the investment in the previous example with continuous compounding.  Hint: we expect the answer to be a bit more than the previous answers."
      ]
    },
    {
      "cell_type": "code",
      "metadata": {
        "id": "MQPT6ofJr4Ar"
      },
      "source": [
        "# Solution goes here"
      ],
      "execution_count": null,
      "outputs": []
    },
    {
      "cell_type": "markdown",
      "metadata": {
        "tags": [],
        "id": "dxUIB38xr4Ar"
      },
      "source": [
        "**Exercise** Applying your algebra skills, solve the previous equation for $r$.  Now use the formula you just derived to answer this question.\n",
        "\n",
        "\"Harvard's tuition in 1970 was \\$4,070 (not including room, board, and fees).  \n",
        "\n",
        "\"In 2019 it is \\$46,340.  What was the annual rate of increase over that period, treating it as if it had compounded continuously?\""
      ]
    },
    {
      "cell_type": "code",
      "metadata": {
        "tags": [],
        "id": "JiYUfN4fr4As"
      },
      "source": [
        "# Solution goes here"
      ],
      "execution_count": null,
      "outputs": []
    },
    {
      "cell_type": "markdown",
      "metadata": {
        "tags": [],
        "id": "-e1p2UJor4As"
      },
      "source": [
        "The point of this exercise is to practice using variables.  But it is also a reminder about logarithms, which we will use extensively."
      ]
    },
    {
      "cell_type": "markdown",
      "metadata": {
        "collapsed": true,
        "tags": [],
        "id": "ukMF4M34r4As"
      },
      "source": [
        "## A little more Jupyter\n",
        "\n",
        "Here are a few tips on using Jupyter to compute and display values.\n",
        "\n",
        "Generally, if there is a single expression in a cell, Jupyter computes the value of the expression and displays the result.\n",
        "For example, we've already seen how to display the value of `np.pi`:"
      ]
    },
    {
      "cell_type": "code",
      "metadata": {
        "tags": [],
        "id": "UH36omW9r4At"
      },
      "source": [
        "np.pi"
      ],
      "execution_count": null,
      "outputs": []
    },
    {
      "cell_type": "markdown",
      "metadata": {
        "tags": [],
        "id": "i9-ThTwTr4At"
      },
      "source": [
        "Here's a more complex example with functions, operators, and numbers:"
      ]
    },
    {
      "cell_type": "code",
      "metadata": {
        "tags": [],
        "id": "uXlojyBTr4At"
      },
      "source": [
        "1 / np.sqrt(2 * np.pi) * np.exp(-3**2 / 2)"
      ],
      "execution_count": null,
      "outputs": []
    },
    {
      "cell_type": "markdown",
      "metadata": {
        "tags": [],
        "id": "9CCh7iX8r4At"
      },
      "source": [
        "If you put more than one expression in a cell, Jupyter computes them all, but it only display the result from the last:"
      ]
    },
    {
      "cell_type": "code",
      "metadata": {
        "tags": [],
        "id": "ZZ6zoQnIr4Au"
      },
      "source": [
        "1\n",
        "2 + 3\n",
        "np.exp(1)\n",
        "(1 + np.sqrt(5)) / 2"
      ],
      "execution_count": null,
      "outputs": []
    },
    {
      "cell_type": "markdown",
      "metadata": {
        "tags": [],
        "id": "IWaYmx47r4Au"
      },
      "source": [
        "If you want to display more than one value, you can separate them with commas:"
      ]
    },
    {
      "cell_type": "code",
      "metadata": {
        "tags": [],
        "id": "Ih-bKpAJr4Au"
      },
      "source": [
        "1, 2 + 3, np.exp(1), (1 + np.sqrt(5)) / 2"
      ],
      "execution_count": null,
      "outputs": []
    },
    {
      "cell_type": "markdown",
      "metadata": {
        "tags": [],
        "id": "L4W48nErr4Av"
      },
      "source": [
        "That result is actually a tuple, which you will learn about in the next chapter.\n",
        "\n",
        "Here's one last Jupyter tip: when you assign a value to variable, Jupyter does not display the value:"
      ]
    },
    {
      "cell_type": "code",
      "metadata": {
        "tags": [],
        "id": "0OQJ8OPOr4Av"
      },
      "source": [
        "phi = (1 + np.sqrt(5)) / 2"
      ],
      "execution_count": null,
      "outputs": []
    },
    {
      "cell_type": "markdown",
      "metadata": {
        "tags": [],
        "id": "tFrWBiccr4Av"
      },
      "source": [
        "So it is idiomatic to assign a value to a variable and immediately display the result:"
      ]
    },
    {
      "cell_type": "code",
      "metadata": {
        "tags": [],
        "id": "2pMuA4hSr4Av"
      },
      "source": [
        "phi = (1 + np.sqrt(5)) / 2\n",
        "phi"
      ],
      "execution_count": null,
      "outputs": []
    },
    {
      "cell_type": "markdown",
      "metadata": {
        "tags": [],
        "id": "xN_Ss7y3r4Aw"
      },
      "source": [
        "**Exercise:** Display the value of $\\phi$ and its inverse, $1/\\phi$, on a single line."
      ]
    },
    {
      "cell_type": "code",
      "metadata": {
        "tags": [],
        "id": "AsCIQk55r4Aw"
      },
      "source": [
        "# Solution goes here"
      ],
      "execution_count": null,
      "outputs": []
    },
    {
      "cell_type": "markdown",
      "metadata": {
        "tags": [],
        "id": "hoKR5nExr4Aw"
      },
      "source": [
        "## The Colab mental model\n",
        "\n",
        "Congratulations on completing the first notebook!\n",
        "\n",
        "Now that you have worked with Colab, you might find it helpful to watch this video, where I explain a little more about how it works:"
      ]
    },
    {
      "cell_type": "code",
      "metadata": {
        "tags": [],
        "id": "xoTR1990r4Ax"
      },
      "source": [
        "from IPython.display import YouTubeVideo    \n",
        "\n",
        "YouTubeVideo(\"eIY-PsYBrPs\")"
      ],
      "execution_count": null,
      "outputs": []
    },
    {
      "cell_type": "code",
      "metadata": {
        "id": "a6gRHa4Wr4Ax"
      },
      "source": [
        ""
      ],
      "execution_count": null,
      "outputs": []
    }
  ]
}